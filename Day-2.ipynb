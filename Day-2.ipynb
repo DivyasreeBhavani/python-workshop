{
 "cells": [
  {
   "cell_type": "markdown",
   "metadata": {},
   "source": [
    "# function\n",
    " - block of code to perform particular task\n",
    " - advantages:\n",
    "     -code reusable\n",
    "     - size decrece\n",
    "## Types of \n",
    "1. predefined\n",
    "2. userdefined\n",
    "3. special\n",
    "## userdefined functions\n",
    "    - based on return type\n",
    "        1. without arg and without return value\n",
    "        2. without arg and with return value\n",
    "        3. with arg ang and without teturn value\n",
    "        4. with arg and with return value\n",
    "    - based on Arg\n",
    "        1. default arg\n",
    "        2.required arg\n",
    "        3.variable length arg\n",
    "        4.keyword arg\n",
    "        "
   ]
  },
  {
   "cell_type": "markdown",
   "metadata": {},
   "source": [
    "## how to create user define function\n",
    "1. function creation<br>\n",
    "    A.function declaration:<br>\n",
    "      ` def FunctionName(arg):` \n",
    "    B. function definition\n",
    "       ` statements`\n",
    "2. function calling:<br>\n",
    "    by using FunctionName"
   ]
  },
  {
   "cell_type": "code",
   "execution_count": 3,
   "metadata": {},
   "outputs": [
    {
     "name": "stdout",
     "output_type": "stream",
     "text": [
      " sample function\n"
     ]
    }
   ],
   "source": [
    "def Sample():\n",
    "    print(\" sample function\")\n",
    "Sample()"
   ]
  },
  {
   "cell_type": "code",
   "execution_count": 10,
   "metadata": {},
   "outputs": [
    {
     "name": "stdout",
     "output_type": "stream",
     "text": [
      "10\n",
      "20\n",
      "adding of 10 and 20 is 30\n",
      "10\n",
      "20\n",
      "adding of 10 and 20 is 30\n",
      "None\n",
      "10\n",
      "20\n",
      "adding of 10 and 20 is 30\n"
     ]
    },
    {
     "data": {
      "text/plain": [
       "30"
      ]
     },
     "execution_count": 10,
     "metadata": {},
     "output_type": "execute_result"
    }
   ],
   "source": [
    "#1. without arg and without return value\n",
    "def Fun():\n",
    "    s1=int(input())\n",
    "    s2=int(input())\n",
    "    print('adding of {} and {} is {}'.format(s1,s2,s1+s2))\n",
    "Fun()\n",
    "s=Fun()  \n",
    "print(s)\n",
    "\n"
   ]
  },
  {
   "cell_type": "code",
   "execution_count": 13,
   "metadata": {},
   "outputs": [
    {
     "name": "stdout",
     "output_type": "stream",
     "text": [
      "10\n",
      "20\n",
      "adding of 10 and 20 is 30\n",
      "30\n"
     ]
    }
   ],
   "source": [
    "# 2. without arg and with return value\n",
    "def Fun1():\n",
    "    s1=int(input())\n",
    "    s2=int(input())\n",
    "    print('adding of {} and {} is {}'.format(s1,s2,s1+s2))\n",
    "    return s1,s2,s1+s2 # stored in s in the form of tuple\n",
    "     #print('adding of {} and {} is {}'.format(s1,s2,s1+s2)) not ececute,return exit from the function\n",
    "s=Fun1()\n",
    "print(s)"
   ]
  },
  {
   "cell_type": "code",
   "execution_count": 14,
   "metadata": {},
   "outputs": [
    {
     "name": "stdout",
     "output_type": "stream",
     "text": [
      "mul of 2 and 5 is 10\n"
     ]
    }
   ],
   "source": [
    "#3. with arg ang and without return value\n",
    "def Fun2(a,b):\n",
    "    print('mul of {} and {} is {}'.format(a,b,a*b))\n",
    "Fun2(2,5)"
   ]
  },
  {
   "cell_type": "code",
   "execution_count": 21,
   "metadata": {},
   "outputs": [
    {
     "name": "stdout",
     "output_type": "stream",
     "text": [
      "mul of 2 and 5 is 10\n",
      "div is 0.4\n"
     ]
    }
   ],
   "source": [
    "# 4. with arg and with return value\n",
    "def Fun3(a,b):\n",
    "    print('mul of {} and {} is {}'.format(a,b,a*b))\n",
    "    return a/b\n",
    "s=Fun3(2,5)\n",
    "print(\"div is {}\".format(s))"
   ]
  },
  {
   "cell_type": "code",
   "execution_count": 11,
   "metadata": {},
   "outputs": [
    {
     "data": {
      "text/plain": [
       "100000"
      ]
     },
     "execution_count": 11,
     "metadata": {},
     "output_type": "execute_result"
    }
   ],
   "source": [
    "# 1. default arguments--> are the argument which are passing the values at the time of function declaration only\n",
    "def Default(a=10,b=20):#a,b are called default arguments\n",
    "    return a**b\n",
    "Default(2)# a value updated by 2"
   ]
  },
  {
   "cell_type": "code",
   "execution_count": 15,
   "metadata": {},
   "outputs": [
    {
     "name": "stdout",
     "output_type": "stream",
     "text": [
      "2 5 7\n",
      "2 5 7\n"
     ]
    }
   ],
   "source": [
    "#required or positional ard\n",
    "def Required(a,b,c=10):#a,b are required and c is default\n",
    "    print(a,b,c)\n",
    "required(2,5,7)\n",
    "\n",
    "'''def required(a=10,b,c):# must give the required before default,default must be last one and remaining all are required\n",
    "    print(a,b,c)\n",
    "required(2,5,7) '''\n",
    "\n",
    "def required(a,b=10,c=10):\n",
    "    print(a,b,c)\n",
    "required(2,5,7) "
   ]
  },
  {
   "cell_type": "code",
   "execution_count": 41,
   "metadata": {},
   "outputs": [
    {
     "name": "stdout",
     "output_type": "stream",
     "text": [
      "74\n"
     ]
    },
    {
     "data": {
      "text/plain": [
       "74"
      ]
     },
     "execution_count": 41,
     "metadata": {},
     "output_type": "execute_result"
    }
   ],
   "source": [
    "#variable length\n",
    "def Var(*a): #*a is a variable length arg\n",
    "    s = 0\n",
    "    for i in a:\n",
    "        s+=i\n",
    "        print(s)\n",
    "        return s\n",
    "Var(74,65,25)"
   ]
  },
  {
   "cell_type": "code",
   "execution_count": 43,
   "metadata": {},
   "outputs": [
    {
     "name": "stdout",
     "output_type": "stream",
     "text": [
      "hello abc welcome to pace college\n"
     ]
    }
   ],
   "source": [
    "#keyword argument\n",
    "def Default(a=10,b=20):#a,b are called default arguments\n",
    "    return a**b\n",
    "Default(b=5)# by using key value we are updating b value\n",
    "\n",
    "def KeyWord(name,college):\n",
    "    print(\"hello {} welcome to {} college\".format(name,college))\n",
    "KeyWord(college=\"pace\",name=\"abc\")\n",
    "    "
   ]
  },
  {
   "cell_type": "code",
   "execution_count": 44,
   "metadata": {},
   "outputs": [
    {
     "name": "stdout",
     "output_type": "stream",
     "text": [
      "{'name': ['abc', 'def', 'ghi']}\n"
     ]
    }
   ],
   "source": [
    "def key2(**name):#** keyword arg\n",
    "    print(name)\n",
    "key2(name=[\"abc\",\"def\",\"ghi\"])"
   ]
  },
  {
   "cell_type": "code",
   "execution_count": null,
   "metadata": {},
   "outputs": [],
   "source": []
  },
  {
   "cell_type": "code",
   "execution_count": 146,
   "metadata": {},
   "outputs": [
    {
     "name": "stdout",
     "output_type": "stream",
     "text": [
      "4\n",
      "10\n",
      "1 * 1 =1 \n",
      "1 * 2 =2 \n",
      "1 * 3 =3 \n",
      "1 * 4 =4 \n",
      "1 * 5 =5 \n",
      "1 * 6 =6 \n",
      "1 * 7 =7 \n",
      "1 * 8 =8 \n",
      "1 * 9 =9 \n",
      "1 * 10 =10 \n",
      "\n",
      "\n",
      "2 * 1 =2 \n",
      "2 * 2 =4 \n",
      "2 * 3 =6 \n",
      "2 * 4 =8 \n",
      "2 * 5 =10 \n",
      "2 * 6 =12 \n",
      "2 * 7 =14 \n",
      "2 * 8 =16 \n",
      "2 * 9 =18 \n",
      "2 * 10 =20 \n",
      "\n",
      "\n",
      "3 * 1 =3 \n",
      "3 * 2 =6 \n",
      "3 * 3 =9 \n",
      "3 * 4 =12 \n",
      "3 * 5 =15 \n",
      "3 * 6 =18 \n",
      "3 * 7 =21 \n",
      "3 * 8 =24 \n",
      "3 * 9 =27 \n",
      "3 * 10 =30 \n",
      "\n",
      "\n"
     ]
    }
   ],
   "source": [
    "def table(x,y):\n",
    "    for i in range(1,y+1):\n",
    "        print(\"{} * {} ={} \".format(x,i,x*i))\n",
    "    print(\"\\n\")\n",
    "x=int(input())\n",
    "y=int(input())\n",
    "for i in range(1,x):\n",
    "    table(i,y)"
   ]
  },
  {
   "cell_type": "code",
   "execution_count": 49,
   "metadata": {},
   "outputs": [
    {
     "name": "stdout",
     "output_type": "stream",
     "text": [
      "23\n",
      "23\n",
      "100 102 104 106 108 110 112 114 116 118 120 122 124 126 128 130 132 134 136 138 140 142 144 146 148 150 "
     ]
    }
   ],
   "source": [
    "def even(start ,end):\n",
    "    for i in range(start,end+1):\n",
    "        if i%2==0:\n",
    "            print(i,end=\" \")\n",
    "start =int(input())\n",
    "end =int(input())\n",
    "even(100,150)"
   ]
  },
  {
   "cell_type": "code",
   "execution_count": 50,
   "metadata": {},
   "outputs": [
    {
     "name": "stdout",
     "output_type": "stream",
     "text": [
      "12\n",
      "1 2 3 4 6 12 "
     ]
    }
   ],
   "source": [
    "def Fact(a):\n",
    "    for i in range(1,a+1):\n",
    "        if a%i==0:\n",
    "            print(i,end=\" \")\n",
    "a=int(input())\n",
    "Fact(a)\n",
    "    "
   ]
  },
  {
   "cell_type": "code",
   "execution_count": 65,
   "metadata": {},
   "outputs": [
    {
     "name": "stdout",
     "output_type": "stream",
     "text": [
      "12\n",
      "5 IS NOT PERFECT NUMBER\n"
     ]
    }
   ],
   "source": [
    "def Sum_Fact(a):\n",
    "    s=0\n",
    "    for i in range(1,a):\n",
    "        if a%i==0:\n",
    "            s+=i\n",
    "    return s\n",
    "a=int(input())\n",
    "Sum_Fact(a)\n",
    "def Perfect(a):\n",
    "    if a==Sum_Fact(a):\n",
    "        print(a,\"is perfect number\")\n",
    "    else:\n",
    "        print(a,\"IS NOT PERFECT NUMBER\")\n",
    "Perfect(5)\n",
    "            "
   ]
  },
  {
   "cell_type": "code",
   "execution_count": 68,
   "metadata": {},
   "outputs": [
    {
     "data": {
      "text/plain": [
       "3628800"
      ]
     },
     "execution_count": 68,
     "metadata": {},
     "output_type": "execute_result"
    }
   ],
   "source": [
    "# recursive function-->\n",
    "def Fact(n):\n",
    "    if n==1 or n==0:\n",
    "        return 1\n",
    "    else:\n",
    "        return n*Fact(n-1)\n",
    "Fact(10)\n",
    "        "
   ]
  },
  {
   "cell_type": "code",
   "execution_count": 74,
   "metadata": {},
   "outputs": [
    {
     "name": "stdout",
     "output_type": "stream",
     "text": [
      "prime\n"
     ]
    }
   ],
   "source": [
    "def Count_Fact(n):\n",
    "    count=0\n",
    "    for i in range(1,n+1):\n",
    "        if n%i==0:\n",
    "            count+=1\n",
    "    return count\n",
    "#Count_Fact(5)\n",
    "def Is_prime(n):\n",
    "    if Count_Fact(n)==2:\n",
    "        print(n,\"prime\")\n",
    "    else:\n",
    "        print(n,\"not prime\")\n",
    "Is_prime(5)"
   ]
  },
  {
   "cell_type": "code",
   "execution_count": null,
   "metadata": {},
   "outputs": [],
   "source": [
    "# between the prime range\n",
    "def Is_prime(n):\n",
    "    if Count_Fact(n)==2:\n",
    "        print(n,\"prime\")\n",
    "    else:\n",
    "        print(n,\"not prime\")\n",
    "def PrimeGeneration(s,e):\n",
    "    count=0\n",
    "    for i in range(a,e+1):\n",
    "        if i%2==0:\n",
    "            \n",
    "        "
   ]
  },
  {
   "cell_type": "markdown",
   "metadata": {},
   "source": [
    "### String\n",
    "- collection of data or group of data\n",
    "- string will represented in '', \" \",\" \" \"\n",
    "- string is Ordered data\n",
    "- string is immutable data\n",
    "- string accept indexing and Slicing"
   ]
  },
  {
   "cell_type": "code",
   "execution_count": 76,
   "metadata": {},
   "outputs": [
    {
     "data": {
      "text/plain": [
       "str"
      ]
     },
     "execution_count": 76,
     "metadata": {},
     "output_type": "execute_result"
    }
   ],
   "source": [
    "s=\"abc12\"\n",
    "type(s)"
   ]
  },
  {
   "cell_type": "code",
   "execution_count": 78,
   "metadata": {},
   "outputs": [
    {
     "data": {
      "text/plain": [
       "'python programming'"
      ]
     },
     "execution_count": 78,
     "metadata": {},
     "output_type": "execute_result"
    }
   ],
   "source": [
    "s=\"python\"\n",
    "s+=\" programming\"\n",
    "s"
   ]
  },
  {
   "cell_type": "code",
   "execution_count": 113,
   "metadata": {},
   "outputs": [
    {
     "data": {
      "text/plain": [
       "'gnimmargorp'"
      ]
     },
     "execution_count": 113,
     "metadata": {},
     "output_type": "execute_result"
    }
   ],
   "source": [
    "s=\"python programming\"\n",
    "s[:-3:-1]\n",
    "s[:-12:-1]\n",
    "s[7:18][::-1]"
   ]
  },
  {
   "cell_type": "code",
   "execution_count": null,
   "metadata": {},
   "outputs": [],
   "source": [
    "# using while condition palindram number"
   ]
  },
  {
   "cell_type": "code",
   "execution_count": 97,
   "metadata": {},
   "outputs": [
    {
     "name": "stdout",
     "output_type": "stream",
     "text": [
      "123\n",
      "321\n"
     ]
    }
   ],
   "source": [
    "n=int(input())\n",
    "rev=0\n",
    "while n>0:\n",
    "    remainder=n%10\n",
    "    rev=rev*10+remainder\n",
    "    n=n//10\n",
    "print(rev)\n",
    "\n"
   ]
  },
  {
   "cell_type": "code",
   "execution_count": 112,
   "metadata": {},
   "outputs": [
    {
     "name": "stdout",
     "output_type": "stream",
     "text": [
      "325\n"
     ]
    }
   ],
   "source": [
    "def Palindrame(n):\n",
    "    rev=0\n",
    "    while n>0:\n",
    "        remainder=n%10\n",
    "        rev=rev*10+remainder\n",
    "        n=n//10\n",
    "    print(rev)\n",
    "Palindrame(523)\n",
    "    \n",
    "\n"
   ]
  },
  {
   "cell_type": "code",
   "execution_count": 116,
   "metadata": {},
   "outputs": [
    {
     "data": {
      "text/plain": [
       "False"
      ]
     },
     "execution_count": 116,
     "metadata": {},
     "output_type": "execute_result"
    }
   ],
   "source": [
    "def Palindrame(word):\n",
    "    if word ==word[::-1]:\n",
    "        return True\n",
    "    else:\n",
    "        return False\n",
    "word=\"bhavani\"\n",
    "Palindrame(word)"
   ]
  },
  {
   "cell_type": "code",
   "execution_count": 119,
   "metadata": {},
   "outputs": [
    {
     "name": "stdout",
     "output_type": "stream",
     "text": [
      "125\n"
     ]
    },
    {
     "data": {
      "text/plain": [
       "False"
      ]
     },
     "execution_count": 119,
     "metadata": {},
     "output_type": "execute_result"
    }
   ],
   "source": [
    "def Palindrame(word):\n",
    "    if word ==word[::-1]:\n",
    "        return True\n",
    "    else:\n",
    "        return False\n",
    "word=input()\n",
    "Palindrame(word)"
   ]
  },
  {
   "cell_type": "code",
   "execution_count": 120,
   "metadata": {},
   "outputs": [
    {
     "data": {
      "text/plain": [
       "'python programming'"
      ]
     },
     "execution_count": 120,
     "metadata": {},
     "output_type": "execute_result"
    }
   ],
   "source": [
    "s"
   ]
  },
  {
   "cell_type": "code",
   "execution_count": 121,
   "metadata": {},
   "outputs": [
    {
     "data": {
      "text/plain": [
       "'python '"
      ]
     },
     "execution_count": 121,
     "metadata": {},
     "output_type": "execute_result"
    }
   ],
   "source": [
    "s[:7]"
   ]
  },
  {
   "cell_type": "code",
   "execution_count": 122,
   "metadata": {},
   "outputs": [
    {
     "data": {
      "text/plain": [
       "'gnimmargorp nohtyp'"
      ]
     },
     "execution_count": 122,
     "metadata": {},
     "output_type": "execute_result"
    }
   ],
   "source": [
    "s[::-1]"
   ]
  },
  {
   "cell_type": "code",
   "execution_count": 136,
   "metadata": {},
   "outputs": [
    {
     "data": {
      "text/plain": [
       "[['python']]"
      ]
     },
     "execution_count": 136,
     "metadata": {},
     "output_type": "execute_result"
    }
   ],
   "source": [
    "s[7:]\n",
    "s"
   ]
  },
  {
   "cell_type": "code",
   "execution_count": 137,
   "metadata": {},
   "outputs": [
    {
     "data": {
      "text/plain": [
       "'nohtyp  programming'"
      ]
     },
     "execution_count": 137,
     "metadata": {},
     "output_type": "execute_result"
    }
   ],
   "source": [
    "s=\"python programming\"\n",
    "s=s[0:6][::-1]+\" \"+s[6:18]\n",
    "s"
   ]
  },
  {
   "cell_type": "code",
   "execution_count": 138,
   "metadata": {},
   "outputs": [
    {
     "data": {
      "text/plain": [
       "['__add__',\n",
       " '__class__',\n",
       " '__contains__',\n",
       " '__delattr__',\n",
       " '__dir__',\n",
       " '__doc__',\n",
       " '__eq__',\n",
       " '__format__',\n",
       " '__ge__',\n",
       " '__getattribute__',\n",
       " '__getitem__',\n",
       " '__getnewargs__',\n",
       " '__gt__',\n",
       " '__hash__',\n",
       " '__init__',\n",
       " '__init_subclass__',\n",
       " '__iter__',\n",
       " '__le__',\n",
       " '__len__',\n",
       " '__lt__',\n",
       " '__mod__',\n",
       " '__mul__',\n",
       " '__ne__',\n",
       " '__new__',\n",
       " '__reduce__',\n",
       " '__reduce_ex__',\n",
       " '__repr__',\n",
       " '__rmod__',\n",
       " '__rmul__',\n",
       " '__setattr__',\n",
       " '__sizeof__',\n",
       " '__str__',\n",
       " '__subclasshook__',\n",
       " 'capitalize',\n",
       " 'casefold',\n",
       " 'center',\n",
       " 'count',\n",
       " 'encode',\n",
       " 'endswith',\n",
       " 'expandtabs',\n",
       " 'find',\n",
       " 'format',\n",
       " 'format_map',\n",
       " 'index',\n",
       " 'isalnum',\n",
       " 'isalpha',\n",
       " 'isascii',\n",
       " 'isdecimal',\n",
       " 'isdigit',\n",
       " 'isidentifier',\n",
       " 'islower',\n",
       " 'isnumeric',\n",
       " 'isprintable',\n",
       " 'isspace',\n",
       " 'istitle',\n",
       " 'isupper',\n",
       " 'join',\n",
       " 'ljust',\n",
       " 'lower',\n",
       " 'lstrip',\n",
       " 'maketrans',\n",
       " 'partition',\n",
       " 'replace',\n",
       " 'rfind',\n",
       " 'rindex',\n",
       " 'rjust',\n",
       " 'rpartition',\n",
       " 'rsplit',\n",
       " 'rstrip',\n",
       " 'split',\n",
       " 'splitlines',\n",
       " 'startswith',\n",
       " 'strip',\n",
       " 'swapcase',\n",
       " 'title',\n",
       " 'translate',\n",
       " 'upper',\n",
       " 'zfill']"
      ]
     },
     "execution_count": 138,
     "metadata": {},
     "output_type": "execute_result"
    }
   ],
   "source": [
    "dir(str)"
   ]
  },
  {
   "cell_type": "code",
   "execution_count": 143,
   "metadata": {},
   "outputs": [
    {
     "name": "stdout",
     "output_type": "stream",
     "text": [
      "p y t h o n   p r o g r a m m i n g "
     ]
    }
   ],
   "source": [
    "s=\"python programming\"\n",
    "for i in s:\n",
    "    print(i,end=\" \")"
   ]
  },
  {
   "cell_type": "code",
   "execution_count": null,
   "metadata": {},
   "outputs": [],
   "source": [
    "s.capitalize()\n",
    " s.casefold()\n",
    "s.center(25,\"*\")\n",
    " s.count(\"p\")\n",
    " 'encode',\n",
    " s.endswith(\"p\")\n",
    " 'expandtabs',\n",
    " s.find(\"p\")# starting index of the sub string,if the string is not in main string it give -1\n",
    " 'format',\n",
    " 'format_map',\n",
    "s.index(\"p\")#index of the sub string,if the value not exist it arise error\n",
    " s.isalnum()#numbersand letters ina word with out space,space is a special \n",
    "s.isalpha()#the string having only alphabets\n",
    " 'isascii',\n",
    "s.isdecimal()#the string having points\n",
    " s.isdigit()#thestring having only numbers\n",
    " 'isidentifier',\n",
    "  s.islower()\n",
    "s.isnumeric()#true or false\n",
    " 'isprintable',\n",
    "s.isspace()#true or false,\" \" true ,only space without words\n",
    "s.istitle() #true or false\n",
    "s.isupper() #true or false\n",
    "li =['abc','123']\n",
    " s='@'.join(li)\n",
    "s\n",
    " 'ljust',\n",
    "s.lower() #all the elements to small\n",
    "    'lstrip',\n",
    " 'maketrans',\n",
    " 'partition',\n",
    "s.replace('@','_')#get print the value ,it will not update s string\n",
    " 'rfind',\n",
    " 'rindex',\n",
    " 'rjust',\n",
    " 'rpartition',\n",
    " 'rsplit',\n",
    "s.rstrip()# right side spaces removed\n",
    " s.split()#s='abc 123' o/p['abc','123']\n",
    " 'splitlines',\n",
    " s.startswith(\"p\")\n",
    "s.strip()# starting and ending od the spaces removed\n",
    " s.swapcase()#small into capital and capital to small\n",
    "s.title()# all first letters are capital and remaing in small letters\n",
    " 'translate()',\n",
    "s.upper()#\n",
    " 'zfill'"
   ]
  },
  {
   "cell_type": "code",
   "execution_count": null,
   "metadata": {},
   "outputs": [],
   "source": [
    "'''#task1: s=\"abc123@#$\" input from the user\n",
    "        output: Alphabets are:3\n",
    "                digits are:3\n",
    "                special character:3\n",
    "                '''\n",
    "s=input()\n",
    "count=0\n",
    "s.split(\" \")\n",
    "for i in s:\n",
    "    if i==s.isalpha():\n",
    "        count+=1\n",
    "print(\"Alphabets are: \",count)"
   ]
  },
  {
   "cell_type": "code",
   "execution_count": 152,
   "metadata": {},
   "outputs": [
    {
     "ename": "SyntaxError",
     "evalue": "invalid syntax (<ipython-input-152-4cfa2635f405>, line 2)",
     "output_type": "error",
     "traceback": [
      "\u001b[1;36m  File \u001b[1;32m\"<ipython-input-152-4cfa2635f405>\"\u001b[1;36m, line \u001b[1;32m2\u001b[0m\n\u001b[1;33m    input:abc     bec #3\u001b[0m\n\u001b[1;37m                  ^\u001b[0m\n\u001b[1;31mSyntaxError\u001b[0m\u001b[1;31m:\u001b[0m invalid syntax\n"
     ]
    }
   ],
   "source": [
    "#task2:\n",
    "input:abc     bec #3\n",
    "output:dfg    ehf\n",
    "#perfect number b/w the given range\n",
    "#prime numbers b/w range\n",
    "#palindrame in function"
   ]
  },
  {
   "cell_type": "code",
   "execution_count": 8,
   "metadata": {},
   "outputs": [
    {
     "data": {
      "text/plain": [
       "'ccedecedd'"
      ]
     },
     "execution_count": 8,
     "metadata": {},
     "output_type": "execute_result"
    }
   ],
   "source": [
    "s='abc'\n",
    "s1='ced'\n",
    ".join(s1)"
   ]
  },
  {
   "cell_type": "code",
   "execution_count": null,
   "metadata": {},
   "outputs": [],
   "source": []
  },
  {
   "cell_type": "code",
   "execution_count": null,
   "metadata": {},
   "outputs": [],
   "source": []
  }
 ],
 "metadata": {
  "kernelspec": {
   "display_name": "Python 3",
   "language": "python",
   "name": "python3"
  },
  "language_info": {
   "codemirror_mode": {
    "name": "ipython",
    "version": 3
   },
   "file_extension": ".py",
   "mimetype": "text/x-python",
   "name": "python",
   "nbconvert_exporter": "python",
   "pygments_lexer": "ipython3",
   "version": "3.8.5"
  }
 },
 "nbformat": 4,
 "nbformat_minor": 4
}
