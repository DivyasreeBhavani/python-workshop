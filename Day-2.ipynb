{
 "cells": [
  {
   "cell_type": "markdown",
   "metadata": {},
   "source": [
    "# function\n",
    " - block of code to perform particular task\n",
    " - advantages:\n",
    "     -code reusable\n",
    "     - size decrece\n",
    "## Types of \n",
    "1. predefined\n",
    "2. userdefined\n",
    "3. special\n",
    "## userdefined functions\n",
    "    - based on return type\n",
    "        1. without arg and without return value\n",
    "        2. without arg and with return value\n",
    "        3. with arg ang and without teturn value\n",
    "        4. with arg and with return value\n",
    "    - based on Arg\n",
    "        1. default arg\n",
    "        2.required arg\n",
    "        3.variable length arg\n",
    "        4.keyword arg\n",
    "        "
   ]
  },
  {
   "cell_type": "markdown",
   "metadata": {},
   "source": [
    "## how to create user define function\n",
    "1. function creation<br>\n",
    "    A.function declaration:<br>\n",
    "      ` def FunctionName(arg):` \n",
    "    B. function definition\n",
    "       ` statements`\n",
    "2. function calling:<br>\n",
    "    by using FunctionName"
   ]
  },
  {
   "cell_type": "code",
   "execution_count": 3,
   "metadata": {},
   "outputs": [
    {
     "name": "stdout",
     "output_type": "stream",
     "text": [
      " sample function\n"
     ]
    }
   ],
   "source": [
    "def sample():\n",
    "    print(\" sample function\")\n",
    "sample()"
   ]
  },
  {
   "cell_type": "code",
   "execution_count": 10,
   "metadata": {},
   "outputs": [
    {
     "name": "stdout",
     "output_type": "stream",
     "text": [
      "10\n",
      "20\n",
      "adding of 10 and 20 is 30\n",
      "10\n",
      "20\n",
      "adding of 10 and 20 is 30\n",
      "None\n",
      "10\n",
      "20\n",
      "adding of 10 and 20 is 30\n"
     ]
    },
    {
     "data": {
      "text/plain": [
       "30"
      ]
     },
     "execution_count": 10,
     "metadata": {},
     "output_type": "execute_result"
    }
   ],
   "source": [
    "#1. without arg and without return value\n",
    "def fun():\n",
    "    s1=int(input())\n",
    "    s2=int(input())\n",
    "    print('adding of {} and {} is {}'.format(s1,s2,s1+s2))\n",
    "fun()\n",
    "s=fun()  \n",
    "print(s)\n",
    "\n"
   ]
  },
  {
   "cell_type": "code",
   "execution_count": 13,
   "metadata": {},
   "outputs": [
    {
     "name": "stdout",
     "output_type": "stream",
     "text": [
      "10\n",
      "20\n",
      "adding of 10 and 20 is 30\n",
      "30\n"
     ]
    }
   ],
   "source": [
    "# 2. without arg and with return value\n",
    "def fun1():\n",
    "    s1=int(input())\n",
    "    s2=int(input())\n",
    "    print('adding of {} and {} is {}'.format(s1,s2,s1+s2))\n",
    "    return s1,s2,s1+s2 # stored in s in the form of tuple\n",
    "     #print('adding of {} and {} is {}'.format(s1,s2,s1+s2)) not ececute,return exit from the function\n",
    "s=fun1()\n",
    "print(s)"
   ]
  },
  {
   "cell_type": "code",
   "execution_count": 14,
   "metadata": {},
   "outputs": [
    {
     "name": "stdout",
     "output_type": "stream",
     "text": [
      "mul of 2 and 5 is 10\n"
     ]
    }
   ],
   "source": [
    "#3. with arg ang and without return value\n",
    "def fun2(a,b):\n",
    "    print('mul of {} and {} is {}'.format(a,b,a*b))\n",
    "fun2(2,5)"
   ]
  },
  {
   "cell_type": "code",
   "execution_count": 21,
   "metadata": {},
   "outputs": [
    {
     "name": "stdout",
     "output_type": "stream",
     "text": [
      "mul of 2 and 5 is 10\n",
      "div is 0.4\n"
     ]
    }
   ],
   "source": [
    "# 4. with arg and with return value\n",
    "def fun3(a,b):\n",
    "    print('mul of {} and {} is {}'.format(a,b,a*b))\n",
    "    return a/b\n",
    "s=fun3(2,5)\n",
    "print(\"div is {}\".format(s))"
   ]
  },
  {
   "cell_type": "code",
   "execution_count": null,
   "metadata": {},
   "outputs": [],
   "source": []
  }
 ],
 "metadata": {
  "kernelspec": {
   "display_name": "Python 3",
   "language": "python",
   "name": "python3"
  },
  "language_info": {
   "codemirror_mode": {
    "name": "ipython",
    "version": 3
   },
   "file_extension": ".py",
   "mimetype": "text/x-python",
   "name": "python",
   "nbconvert_exporter": "python",
   "pygments_lexer": "ipython3",
   "version": "3.8.5"
  }
 },
 "nbformat": 4,
 "nbformat_minor": 4
}
